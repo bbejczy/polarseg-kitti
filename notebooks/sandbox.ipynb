{
 "cells": [
  {
   "cell_type": "code",
   "execution_count": 1,
   "metadata": {},
   "outputs": [],
   "source": [
    "import pathlib\n",
    "import yaml \n",
    "import numpy as np"
   ]
  },
  {
   "cell_type": "code",
   "execution_count": 2,
   "metadata": {},
   "outputs": [],
   "source": [
    "def load_SemKITTI_yaml(file, label_name=False):\n",
    "    # FIXME: rewrite or reference\n",
    "\n",
    "    with open(file, \"r\") as stream:\n",
    "        semkitti_dict = yaml.safe_load(stream)\n",
    "\n",
    "    # data tuple for unique label values and keys\n",
    "    if label_name:\n",
    "        unique_dict = dict()\n",
    "        # TODO: rewrite or cite this\n",
    "        for i in sorted(list(semkitti_dict[\"learning_map\"].keys()))[::-1]:\n",
    "            unique_dict[semkitti_dict[\"learning_map\"][i]] = semkitti_dict[\"labels\"][i]\n",
    "\n",
    "        unique_keys = np.asarray(sorted(list(unique_dict.keys())))[1:] - 1\n",
    "        unique_labels = [unique_dict[x] for x in unique_keys + 1]\n",
    "\n",
    "        return (unique_keys, unique_labels)\n",
    "\n",
    "    return semkitti_dict\n",
    "\n",
    "def remap_labels(labels, semkitti_dict):\n",
    "    for i in labels:\n",
    "        labels[i] = semkitti_dict[\"labels\"][labels[i]]\n",
    "    return labels"
   ]
  },
  {
   "cell_type": "code",
   "execution_count": 3,
   "metadata": {},
   "outputs": [
    {
     "data": {
      "text/plain": [
       "(array([ 0,  1,  2,  3,  4,  5,  6,  7,  8,  9, 10, 11, 12, 13, 14, 15, 16,\n",
       "        17, 18]),\n",
       " ['car',\n",
       "  'bicycle',\n",
       "  'motorcycle',\n",
       "  'truck',\n",
       "  'bus',\n",
       "  'person',\n",
       "  'bicyclist',\n",
       "  'motorcyclist',\n",
       "  'road',\n",
       "  'parking',\n",
       "  'sidewalk',\n",
       "  'other-ground',\n",
       "  'building',\n",
       "  'fence',\n",
       "  'vegetation',\n",
       "  'trunk',\n",
       "  'terrain',\n",
       "  'pole',\n",
       "  'traffic-sign'])"
      ]
     },
     "execution_count": 3,
     "metadata": {},
     "output_type": "execute_result"
    }
   ],
   "source": [
    "semkitti_dict = load_SemKITTI_yaml(\"../semantic-kitti.yaml\", True)\n",
    "\n",
    "semkitti_dict"
   ]
  },
  {
   "cell_type": "code",
   "execution_count": 4,
   "metadata": {},
   "outputs": [
    {
     "data": {
      "text/plain": [
       "['car',\n",
       " 'bicycle',\n",
       " 'motorcycle',\n",
       " 'truck',\n",
       " 'other-vehicle',\n",
       " 'person',\n",
       " 'bicyclist',\n",
       " 'motorcyclist',\n",
       " 'road',\n",
       " 'parking',\n",
       " 'sidewalk',\n",
       " 'other-ground',\n",
       " 'building',\n",
       " 'fence',\n",
       " 'vegetation',\n",
       " 'trunk',\n",
       " 'terrain',\n",
       " 'pole',\n",
       " 'traffic-sign']"
      ]
     },
     "execution_count": 4,
     "metadata": {},
     "output_type": "execute_result"
    }
   ],
   "source": [
    "with open(\"../semantic-kitti.yaml\", \"r\") as stream:\n",
    "    semkitti_dict = yaml.safe_load(stream)\n",
    "\n",
    "labels = np.fromiter(semkitti_dict[\"learning_map\"].values(), dtype=np.int8)\n",
    "unique_labels = np.unique(labels)[:-1] # one too much (unlabelled)\n",
    "unique_names = []\n",
    "key_list = list(semkitti_dict[\"learning_map\"].keys())\n",
    "\n",
    "for i in unique_labels:\n",
    "    unique_names.append(semkitti_dict[\"labels\"][semkitti_dict[\"learning_map_inv\"][i+1]])\n",
    "\n",
    "unique_names\n"
   ]
  },
  {
   "cell_type": "code",
   "execution_count": 5,
   "metadata": {},
   "outputs": [
    {
     "ename": "KeyError",
     "evalue": "1",
     "output_type": "error",
     "traceback": [
      "\u001b[0;31m---------------------------------------------------------------------------\u001b[0m",
      "\u001b[0;31mKeyError\u001b[0m                                  Traceback (most recent call last)",
      "\u001b[1;32m/root/repos/polarseg-kitti/notebooks/sandbox.ipynb Cell 5'\u001b[0m in \u001b[0;36m<cell line: 1>\u001b[0;34m()\u001b[0m\n\u001b[0;32m----> <a href='vscode-notebook-cell://ssh-remote%2Bkcloud/root/repos/polarseg-kitti/notebooks/sandbox.ipynb#ch0000004vscode-remote?line=0'>1</a>\u001b[0m result \u001b[39m=\u001b[39m \u001b[39mset\u001b[39m(semkitti_dict[\u001b[39m1\u001b[39;49m]) \u001b[39m-\u001b[39m \u001b[39mset\u001b[39m(unique_names)\n\u001b[1;32m      <a href='vscode-notebook-cell://ssh-remote%2Bkcloud/root/repos/polarseg-kitti/notebooks/sandbox.ipynb#ch0000004vscode-remote?line=1'>2</a>\u001b[0m result\n",
      "\u001b[0;31mKeyError\u001b[0m: 1"
     ]
    }
   ],
   "source": [
    "result = set(semkitti_dict[1]) - set(unique_names)\n",
    "result"
   ]
  },
  {
   "cell_type": "code",
   "execution_count": null,
   "metadata": {},
   "outputs": [
    {
     "name": "stdout",
     "output_type": "stream",
     "text": [
      "0\n"
     ]
    }
   ],
   "source": [
    "semkitti_dict = load_SemKITTI_yaml(\"../semantic-kitti.yaml\", False)\n",
    "\n",
    "def find_ignore_label(semkitti_dict: dict):\n",
    "    for key, value in semkitti_dict[\"learning_ignore\"].items():\n",
    "        if value == True:\n",
    "            return key\n",
    "\n",
    "label = find_ignore_label(semkitti_dict=semkitti_dict)\n",
    "print(label)"
   ]
  }
 ],
 "metadata": {
  "interpreter": {
   "hash": "2f394aca7ca06fed1e6064aef884364492d7cdda3614a461e02e6407fc40ba69"
  },
  "kernelspec": {
   "display_name": "Python 3.8.12 ('base')",
   "language": "python",
   "name": "python3"
  },
  "language_info": {
   "codemirror_mode": {
    "name": "ipython",
    "version": 3
   },
   "file_extension": ".py",
   "mimetype": "text/x-python",
   "name": "python",
   "nbconvert_exporter": "python",
   "pygments_lexer": "ipython3",
   "version": "3.8.13"
  },
  "orig_nbformat": 4
 },
 "nbformat": 4,
 "nbformat_minor": 2
}
