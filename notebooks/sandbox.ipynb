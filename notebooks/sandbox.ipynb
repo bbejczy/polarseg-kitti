{
 "cells": [
  {
   "cell_type": "code",
   "execution_count": 6,
   "metadata": {},
   "outputs": [
    {
     "name": "stdout",
     "output_type": "stream",
     "text": [
      "['/root/repos/polarseg-kitti/notebooks', '/root/miniconda3/lib/python38.zip', '/root/miniconda3/lib/python3.8', '/root/miniconda3/lib/python3.8/lib-dynload', '', '/root/miniconda3/lib/python3.8/site-packages', '~/polarseg-kitti']\n"
     ]
    }
   ],
   "source": [
    "import pathlib\n",
    "import yaml \n",
    "import numpy as np\n",
    "import sys\n",
    "import random\n",
    "\n",
    "\n",
    "# sys.path.remove('/root/repos/polarseg-kitti')\n",
    "# sys.path.append('~/polarseg-kitti')\n",
    "# import src.misc.utils as utils\n",
    "\n",
    "print(sys.path)\n",
    "\n",
    "if '~/polarseg-kitti' not in sys.path:\n",
    "    sys.path.append('~/polarseg-kitti')"
   ]
  },
  {
   "cell_type": "code",
   "execution_count": 2,
   "metadata": {},
   "outputs": [],
   "source": [
    "def load_SemKITTI_yaml(file, label_name=False):\n",
    "    # FIXME: rewrite or reference\n",
    "\n",
    "    with open(file, \"r\") as stream:\n",
    "        semkitti_dict = yaml.safe_load(stream)\n",
    "\n",
    "    # data tuple for unique label values and keys\n",
    "    if label_name:\n",
    "        unique_dict = dict()\n",
    "        # TODO: rewrite or cite this\n",
    "        for i in sorted(list(semkitti_dict[\"learning_map\"].keys()))[::-1]:\n",
    "            unique_dict[semkitti_dict[\"learning_map\"][i]] = semkitti_dict[\"labels\"][i]\n",
    "\n",
    "        unique_keys = np.asarray(sorted(list(unique_dict.keys())))[1:] - 1\n",
    "        unique_labels = [unique_dict[x] for x in unique_keys + 1]\n",
    "\n",
    "        return (unique_keys, unique_labels)\n",
    "\n",
    "    return semkitti_dict\n",
    "\n",
    "def remap_labels(labels, semkitti_dict):\n",
    "    for i in labels:\n",
    "        labels[i] = semkitti_dict[\"labels\"][labels[i]]\n",
    "    return labels"
   ]
  },
  {
   "cell_type": "code",
   "execution_count": 3,
   "metadata": {},
   "outputs": [
    {
     "data": {
      "text/plain": [
       "(array([ 0,  1,  2,  3,  4,  5,  6,  7,  8,  9, 10, 11, 12, 13, 14, 15, 16,\n",
       "        17, 18]),\n",
       " ['car',\n",
       "  'bicycle',\n",
       "  'motorcycle',\n",
       "  'truck',\n",
       "  'bus',\n",
       "  'person',\n",
       "  'bicyclist',\n",
       "  'motorcyclist',\n",
       "  'road',\n",
       "  'parking',\n",
       "  'sidewalk',\n",
       "  'other-ground',\n",
       "  'building',\n",
       "  'fence',\n",
       "  'vegetation',\n",
       "  'trunk',\n",
       "  'terrain',\n",
       "  'pole',\n",
       "  'traffic-sign'])"
      ]
     },
     "execution_count": 3,
     "metadata": {},
     "output_type": "execute_result"
    }
   ],
   "source": [
    "semkitti_dict = load_SemKITTI_yaml(\"../semantic-kitti.yaml\", True)\n",
    "\n",
    "semkitti_dict"
   ]
  },
  {
   "cell_type": "code",
   "execution_count": 4,
   "metadata": {},
   "outputs": [
    {
     "data": {
      "text/plain": [
       "['car',\n",
       " 'bicycle',\n",
       " 'motorcycle',\n",
       " 'truck',\n",
       " 'other-vehicle',\n",
       " 'person',\n",
       " 'bicyclist',\n",
       " 'motorcyclist',\n",
       " 'road',\n",
       " 'parking',\n",
       " 'sidewalk',\n",
       " 'other-ground',\n",
       " 'building',\n",
       " 'fence',\n",
       " 'vegetation',\n",
       " 'trunk',\n",
       " 'terrain',\n",
       " 'pole',\n",
       " 'traffic-sign']"
      ]
     },
     "execution_count": 4,
     "metadata": {},
     "output_type": "execute_result"
    }
   ],
   "source": [
    "with open(\"../semantic-kitti.yaml\", \"r\") as stream:\n",
    "    semkitti_dict = yaml.safe_load(stream)\n",
    "\n",
    "labels = np.fromiter(semkitti_dict[\"learning_map\"].values(), dtype=np.int8)\n",
    "unique_labels = np.unique(labels)[:-1] # one too much (unlabelled)\n",
    "unique_names = []\n",
    "key_list = list(semkitti_dict[\"learning_map\"].keys())\n",
    "\n",
    "for i in unique_labels:\n",
    "    unique_names.append(semkitti_dict[\"labels\"][semkitti_dict[\"learning_map_inv\"][i+1]])\n",
    "\n",
    "unique_names\n"
   ]
  },
  {
   "cell_type": "code",
   "execution_count": 5,
   "metadata": {},
   "outputs": [
    {
     "ename": "KeyError",
     "evalue": "1",
     "output_type": "error",
     "traceback": [
      "\u001b[0;31m---------------------------------------------------------------------------\u001b[0m",
      "\u001b[0;31mKeyError\u001b[0m                                  Traceback (most recent call last)",
      "\u001b[1;32m/root/repos/polarseg-kitti/notebooks/sandbox.ipynb Cell 5'\u001b[0m in \u001b[0;36m<cell line: 1>\u001b[0;34m()\u001b[0m\n\u001b[0;32m----> <a href='vscode-notebook-cell://ssh-remote%2Bkcloud/root/repos/polarseg-kitti/notebooks/sandbox.ipynb#ch0000004vscode-remote?line=0'>1</a>\u001b[0m result \u001b[39m=\u001b[39m \u001b[39mset\u001b[39m(semkitti_dict[\u001b[39m1\u001b[39;49m]) \u001b[39m-\u001b[39m \u001b[39mset\u001b[39m(unique_names)\n\u001b[1;32m      <a href='vscode-notebook-cell://ssh-remote%2Bkcloud/root/repos/polarseg-kitti/notebooks/sandbox.ipynb#ch0000004vscode-remote?line=1'>2</a>\u001b[0m result\n",
      "\u001b[0;31mKeyError\u001b[0m: 1"
     ]
    }
   ],
   "source": [
    "result = set(semkitti_dict[1]) - set(unique_names)\n",
    "result"
   ]
  },
  {
   "cell_type": "code",
   "execution_count": null,
   "metadata": {},
   "outputs": [
    {
     "name": "stdout",
     "output_type": "stream",
     "text": [
      "0\n"
     ]
    }
   ],
   "source": [
    "semkitti_dict = load_SemKITTI_yaml(\"../semantic-kitti.yaml\", False)\n",
    "\n",
    "def find_ignore_label(semkitti_dict: dict):\n",
    "    for key, value in semkitti_dict[\"learning_ignore\"].items():\n",
    "        if value == True:\n",
    "            return key\n",
    "\n",
    "label = find_ignore_label(semkitti_dict=semkitti_dict)\n",
    "print(label)"
   ]
  },
  {
   "cell_type": "code",
   "execution_count": 11,
   "metadata": {},
   "outputs": [
    {
     "data": {
      "text/plain": [
       "0"
      ]
     },
     "execution_count": 11,
     "metadata": {},
     "output_type": "execute_result"
    }
   ],
   "source": [
    "choice = random.randint(0,3)\n",
    "\n",
    "def random_flip(xyz):\n",
    "    if choice == 0:\n",
    "        print(\"No augmentation\\n\")\n",
    "    elif choice == 1:\n",
    "        print(\"Flip along x-axis\\n\")\n",
    "        xyz = -xyz[:,0]\n",
    "    elif choice == 2:\n",
    "        print(\"Flip along y-axis\\n\")\n",
    "        xyz = -xyz[:,1]\n",
    "    elif choice == 3:\n",
    "        print(\"Flip along both axis\\n\")\n",
    "        xyz_flip1 = -xyz[:,0]\n",
    "        xyz = -xyz_flip1[:,1]\n",
    "    return xyz\n"
   ]
  },
  {
   "cell_type": "code",
   "execution_count": 12,
   "metadata": {},
   "outputs": [
    {
     "name": "stdout",
     "output_type": "stream",
     "text": [
      "Collecting scipy\n",
      "  Downloading scipy-1.8.1-cp38-cp38-manylinux_2_17_x86_64.manylinux2014_x86_64.whl (41.6 MB)\n",
      "\u001b[K     |████████████████████████████████| 41.6 MB 11.8 MB/s eta 0:00:01\n",
      "\u001b[?25hRequirement already satisfied: numpy<1.25.0,>=1.17.3 in /root/miniconda3/lib/python3.8/site-packages (from scipy) (1.22.4)\n",
      "Installing collected packages: scipy\n",
      "Successfully installed scipy-1.8.1\n",
      "\u001b[33mWARNING: Running pip as the 'root' user can result in broken permissions and conflicting behaviour with the system package manager. It is recommended to use a virtual environment instead: https://pip.pypa.io/warnings/venv\u001b[0m\n"
     ]
    }
   ],
   "source": [
    "!pip install scipy"
   ]
  },
  {
   "cell_type": "code",
   "execution_count": 21,
   "metadata": {},
   "outputs": [
    {
     "name": "stdout",
     "output_type": "stream",
     "text": [
      "[[916 886 818]\n",
      " [987 818 838]\n",
      " [953 903 807]]\n",
      "[[  0   0   0   0]\n",
      " [  0 871 827   0]\n",
      " [  0 959 886   0]\n",
      " [  0   0   0   0]]\n",
      "[[  21 1274  818]\n",
      " [ 119 1276  838]\n",
      " [  35 1312  807]]\n"
     ]
    },
    {
     "name": "stderr",
     "output_type": "stream",
     "text": [
      "/tmp/ipykernel_492952/2878214580.py:2: DeprecationWarning: Please use `rotate` from the `scipy.ndimage` namespace, the `scipy.ndimage.interpolation` namespace is deprecated.\n",
      "  from scipy.ndimage.interpolation import rotate\n"
     ]
    }
   ],
   "source": [
    "import numpy as np\n",
    "from scipy.ndimage.interpolation import rotate\n",
    "\n",
    "xyz = np.random.randint(800, 1000, size=[3, 3])\n",
    "\n",
    "print(xyz)\n",
    "\n",
    "rotated = rotate()\n",
    "\n",
    "print(rotated)\n",
    "\n",
    "rotate_rad = np.deg2rad(45)\n",
    "c, s = np.cos(rotate_rad), np.sin(rotate_rad)\n",
    "j = np.matrix([[c, s], [-s, c]])\n",
    "xyz[:,:2] = np.dot( xyz[:,:2],j)\n",
    "\n",
    "print(xyz)"
   ]
  }
 ],
 "metadata": {
  "interpreter": {
   "hash": "2f394aca7ca06fed1e6064aef884364492d7cdda3614a461e02e6407fc40ba69"
  },
  "kernelspec": {
   "display_name": "Python 3.8.13 ('base')",
   "language": "python",
   "name": "python3"
  },
  "language_info": {
   "codemirror_mode": {
    "name": "ipython",
    "version": 3
   },
   "file_extension": ".py",
   "mimetype": "text/x-python",
   "name": "python",
   "nbconvert_exporter": "python",
   "pygments_lexer": "ipython3",
   "version": "3.8.13"
  },
  "orig_nbformat": 4
 },
 "nbformat": 4,
 "nbformat_minor": 2
}
